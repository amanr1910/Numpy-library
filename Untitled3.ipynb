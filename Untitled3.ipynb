{
  "nbformat": 4,
  "nbformat_minor": 0,
  "metadata": {
    "colab": {
      "name": "Untitled3.ipynb",
      "provenance": [],
      "collapsed_sections": [],
      "authorship_tag": "ABX9TyP/d4/t6oFmc/jWMApf69iZ",
      "include_colab_link": true
    },
    "kernelspec": {
      "name": "python3",
      "display_name": "Python 3"
    },
    "language_info": {
      "name": "python"
    }
  },
  "cells": [
    {
      "cell_type": "markdown",
      "metadata": {
        "id": "view-in-github",
        "colab_type": "text"
      },
      "source": [
        "<a href=\"https://colab.research.google.com/github/amanr1910/Numpy-library/blob/main/Untitled3.ipynb\" target=\"_parent\"><img src=\"https://colab.research.google.com/assets/colab-badge.svg\" alt=\"Open In Colab\"/></a>"
      ]
    },
    {
      "cell_type": "code",
      "execution_count": 2,
      "metadata": {
        "colab": {
          "base_uri": "https://localhost:8080/",
          "height": 0
        },
        "id": "tbB71hrE9-oc",
        "outputId": "a21fcc4a-5f86-4418-8659-9f9f81c17568"
      },
      "outputs": [
        {
          "output_type": "execute_result",
          "data": {
            "text/plain": [
              "array([10, 20, 30])"
            ]
          },
          "metadata": {},
          "execution_count": 2
        }
      ],
      "source": [
        "import numpy as np\n",
        "\n",
        "\n",
        "n1=np.array([10,20,30])\n",
        "\n",
        "n1"
      ]
    },
    {
      "cell_type": "code",
      "source": [
        "n2=np.array([[10,20,30],[40,50,60]])\n",
        "n2"
      ],
      "metadata": {
        "colab": {
          "base_uri": "https://localhost:8080/",
          "height": 0
        },
        "id": "WqAXlUQt-oDp",
        "outputId": "ee30fdef-16ec-4803-b7dc-17fdcfe17ea2"
      },
      "execution_count": 3,
      "outputs": [
        {
          "output_type": "execute_result",
          "data": {
            "text/plain": [
              "array([[10, 20, 30],\n",
              "       [40, 50, 60]])"
            ]
          },
          "metadata": {},
          "execution_count": 3
        }
      ]
    },
    {
      "cell_type": "code",
      "source": [
        "n3=np.zeros((6,6))\n",
        "n3"
      ],
      "metadata": {
        "colab": {
          "base_uri": "https://localhost:8080/",
          "height": 0
        },
        "id": "HnFXIpZS_Rru",
        "outputId": "c3226630-b1c6-459e-e5ae-ad847d9a8b85"
      },
      "execution_count": 5,
      "outputs": [
        {
          "output_type": "execute_result",
          "data": {
            "text/plain": [
              "array([[0., 0., 0., 0., 0., 0.],\n",
              "       [0., 0., 0., 0., 0., 0.],\n",
              "       [0., 0., 0., 0., 0., 0.],\n",
              "       [0., 0., 0., 0., 0., 0.],\n",
              "       [0., 0., 0., 0., 0., 0.],\n",
              "       [0., 0., 0., 0., 0., 0.]])"
            ]
          },
          "metadata": {},
          "execution_count": 5
        }
      ]
    },
    {
      "cell_type": "code",
      "source": [
        "n4=np.full((3,3),10)\n",
        "n4"
      ],
      "metadata": {
        "colab": {
          "base_uri": "https://localhost:8080/",
          "height": 0
        },
        "id": "YZCLVeuG_qrX",
        "outputId": "4226646e-b92c-488b-ecc1-88a2b6925b90"
      },
      "execution_count": 10,
      "outputs": [
        {
          "output_type": "execute_result",
          "data": {
            "text/plain": [
              "array([[10, 10, 10],\n",
              "       [10, 10, 10],\n",
              "       [10, 10, 10]])"
            ]
          },
          "metadata": {},
          "execution_count": 10
        }
      ]
    },
    {
      "cell_type": "code",
      "source": [
        "n5=np.arange(10,20)\n",
        "n5"
      ],
      "metadata": {
        "colab": {
          "base_uri": "https://localhost:8080/",
          "height": 0
        },
        "id": "po2RSzQBAN8w",
        "outputId": "e4d18a3f-9f4f-4180-ec0f-486d60bc114b"
      },
      "execution_count": 12,
      "outputs": [
        {
          "output_type": "execute_result",
          "data": {
            "text/plain": [
              "array([10, 11, 12, 13, 14, 15, 16, 17, 18, 19])"
            ]
          },
          "metadata": {},
          "execution_count": 12
        }
      ]
    },
    {
      "cell_type": "code",
      "source": [
        "n6=np.arange(10,100,5)\n",
        "n6"
      ],
      "metadata": {
        "colab": {
          "base_uri": "https://localhost:8080/",
          "height": 0
        },
        "id": "VZPnfYC0AiRY",
        "outputId": "796a9c8f-b690-4844-a1f7-50bbfa982428"
      },
      "execution_count": 13,
      "outputs": [
        {
          "output_type": "execute_result",
          "data": {
            "text/plain": [
              "array([10, 15, 20, 25, 30, 35, 40, 45, 50, 55, 60, 65, 70, 75, 80, 85, 90,\n",
              "       95])"
            ]
          },
          "metadata": {},
          "execution_count": 13
        }
      ]
    },
    {
      "cell_type": "code",
      "source": [
        "n7=np.random.randint(1,200,10)\n",
        "n7\n"
      ],
      "metadata": {
        "colab": {
          "base_uri": "https://localhost:8080/",
          "height": 0
        },
        "id": "1fEizdzwA19e",
        "outputId": "f234c144-1921-4026-9559-795073a2ef49"
      },
      "execution_count": 14,
      "outputs": [
        {
          "output_type": "execute_result",
          "data": {
            "text/plain": [
              "array([135, 188, 108,  21,  61,  70, 126,  79, 175,  57])"
            ]
          },
          "metadata": {},
          "execution_count": 14
        }
      ]
    },
    {
      "cell_type": "code",
      "source": [
        "n8=np.array([[20,40,50],[70,30,10]])\n",
        "n8\n",
        "\n",
        "\n",
        "n8.shape=(3,2)\n",
        "n8"
      ],
      "metadata": {
        "colab": {
          "base_uri": "https://localhost:8080/",
          "height": 0
        },
        "id": "ZryYbhpoBJYr",
        "outputId": "70f9f591-2593-426a-94e2-21904fd65c66"
      },
      "execution_count": 22,
      "outputs": [
        {
          "output_type": "execute_result",
          "data": {
            "text/plain": [
              "array([[20, 40],\n",
              "       [50, 70],\n",
              "       [30, 10]])"
            ]
          },
          "metadata": {},
          "execution_count": 22
        }
      ]
    },
    {
      "cell_type": "markdown",
      "source": [
        "joining numpy array"
      ],
      "metadata": {
        "id": "Y__hjqqKCN8B"
      }
    },
    {
      "cell_type": "code",
      "source": [
        "n9=np.array([20,40,50])\n",
        "\n",
        "n10=np.array([40,80,90])\n",
        "\n",
        "np.vstack((n9,n10))"
      ],
      "metadata": {
        "colab": {
          "base_uri": "https://localhost:8080/",
          "height": 0
        },
        "id": "FoglchavCI56",
        "outputId": "ef5b330c-8ee4-4c49-86f9-1382a2113b6e"
      },
      "execution_count": 26,
      "outputs": [
        {
          "output_type": "execute_result",
          "data": {
            "text/plain": [
              "array([[20, 40, 50],\n",
              "       [40, 80, 90]])"
            ]
          },
          "metadata": {},
          "execution_count": 26
        }
      ]
    },
    {
      "cell_type": "code",
      "source": [
        "n9=np.array([20,40,50])\n",
        "\n",
        "n10=np.array([40,80,90])\n",
        "\n",
        "np.hstack((n9,n10))"
      ],
      "metadata": {
        "colab": {
          "base_uri": "https://localhost:8080/",
          "height": 0
        },
        "outputId": "41aa1a2b-5be9-44d7-d251-894274b8a199",
        "id": "i7rqPLHDDGOs"
      },
      "execution_count": 28,
      "outputs": [
        {
          "output_type": "execute_result",
          "data": {
            "text/plain": [
              "array([20, 40, 50, 40, 80, 90])"
            ]
          },
          "metadata": {},
          "execution_count": 28
        }
      ]
    },
    {
      "cell_type": "code",
      "source": [
        "n9=np.array([20,40,50])\n",
        "\n",
        "n10=np.array([40,80,90])\n",
        "\n",
        "np.column_stack((n9,n10))"
      ],
      "metadata": {
        "colab": {
          "base_uri": "https://localhost:8080/",
          "height": 0
        },
        "outputId": "a0854a90-02f7-42ab-ffc5-b6d9284e4dfa",
        "id": "zmMuykkwDYTb"
      },
      "execution_count": 29,
      "outputs": [
        {
          "output_type": "execute_result",
          "data": {
            "text/plain": [
              "array([[20, 40],\n",
              "       [40, 80],\n",
              "       [50, 90]])"
            ]
          },
          "metadata": {},
          "execution_count": 29
        }
      ]
    },
    {
      "cell_type": "markdown",
      "source": [
        "Numpy Intersaction an Difference\n"
      ],
      "metadata": {
        "id": "WODwGazBDj1l"
      }
    },
    {
      "cell_type": "code",
      "source": [
        "n11=np.array([10,20,30])\n",
        "n12=np.array([30,40,50])\n",
        "np.intersect1d(n11,n12)"
      ],
      "metadata": {
        "colab": {
          "base_uri": "https://localhost:8080/",
          "height": 0
        },
        "id": "jTpzfeAlDiQi",
        "outputId": "204fdc20-4e88-49da-c6a6-f187773532d3"
      },
      "execution_count": 30,
      "outputs": [
        {
          "output_type": "execute_result",
          "data": {
            "text/plain": [
              "array([30])"
            ]
          },
          "metadata": {},
          "execution_count": 30
        }
      ]
    },
    {
      "cell_type": "code",
      "source": [
        "n11=np.array([10,20,30])\n",
        "n12=np.array([30,40,50])\n",
        "\n",
        "np.setdiff1d(n11,n12)"
      ],
      "metadata": {
        "colab": {
          "base_uri": "https://localhost:8080/",
          "height": 0
        },
        "id": "dwgS7Al1EjJn",
        "outputId": "c2c4dd89-5c75-406c-938a-c151f7eb6fe9"
      },
      "execution_count": 31,
      "outputs": [
        {
          "output_type": "execute_result",
          "data": {
            "text/plain": [
              "array([10, 20])"
            ]
          },
          "metadata": {},
          "execution_count": 31
        }
      ]
    },
    {
      "cell_type": "markdown",
      "source": [
        "Addition of Numpy Error\n"
      ],
      "metadata": {
        "id": "xEwjfpR_E9ci"
      }
    },
    {
      "cell_type": "code",
      "source": [
        "n13=np.array([10,20,30])\n",
        "\n",
        "n14=np.array([40,50,60])\n",
        "\n",
        "np.sum([n13,n14])"
      ],
      "metadata": {
        "colab": {
          "base_uri": "https://localhost:8080/",
          "height": 0
        },
        "id": "jhjsWfzyE8Ar",
        "outputId": "96b79edb-4ea0-4817-e0ab-ccbb74cdc49e"
      },
      "execution_count": 34,
      "outputs": [
        {
          "output_type": "execute_result",
          "data": {
            "text/plain": [
              "210"
            ]
          },
          "metadata": {},
          "execution_count": 34
        }
      ]
    },
    {
      "cell_type": "code",
      "source": [
        "n13=np.array([10,20,30])\n",
        "\n",
        "n14=np.array([40,50,60])\n",
        "\n",
        "np.sum([n13,n14],axis=0)"
      ],
      "metadata": {
        "colab": {
          "base_uri": "https://localhost:8080/",
          "height": 0
        },
        "id": "q3psn2cVF6rA",
        "outputId": "db883d31-3bd0-4256-ab26-bf424b151825"
      },
      "execution_count": 35,
      "outputs": [
        {
          "output_type": "execute_result",
          "data": {
            "text/plain": [
              "array([50, 70, 90])"
            ]
          },
          "metadata": {},
          "execution_count": 35
        }
      ]
    },
    {
      "cell_type": "markdown",
      "source": [
        "Numpy array Mathematics"
      ],
      "metadata": {
        "id": "dmp56CbiGHLB"
      }
    },
    {
      "cell_type": "code",
      "source": [
        "\n",
        "n14=np.array([40,50,60])\n",
        "\n",
        "n14=n14+1\n",
        "n14"
      ],
      "metadata": {
        "colab": {
          "base_uri": "https://localhost:8080/",
          "height": 0
        },
        "id": "Yn8LsufFGEWQ",
        "outputId": "ba62e696-1df5-4be7-c2a3-6cd89d48b0fc"
      },
      "execution_count": 37,
      "outputs": [
        {
          "output_type": "execute_result",
          "data": {
            "text/plain": [
              "array([41, 51, 61])"
            ]
          },
          "metadata": {},
          "execution_count": 37
        }
      ]
    },
    {
      "cell_type": "code",
      "source": [
        "n14=np.array([40,50,60])\n",
        "\n",
        "n14=n14-1\n",
        "n14"
      ],
      "metadata": {
        "colab": {
          "base_uri": "https://localhost:8080/",
          "height": 0
        },
        "id": "_3bisMb5GYDe",
        "outputId": "64625971-d5f5-4874-a2ca-c22218c6d5c3"
      },
      "execution_count": 38,
      "outputs": [
        {
          "output_type": "execute_result",
          "data": {
            "text/plain": [
              "array([39, 49, 59])"
            ]
          },
          "metadata": {},
          "execution_count": 38
        }
      ]
    },
    {
      "cell_type": "code",
      "source": [
        "n14=np.array([40,50,60])\n",
        "n14=n14*2\n",
        "n14\n"
      ],
      "metadata": {
        "colab": {
          "base_uri": "https://localhost:8080/",
          "height": 0
        },
        "id": "Q9nuduF8Gg_T",
        "outputId": "d6cff0d3-9804-4d77-aab0-05fb6badbcd7"
      },
      "execution_count": 39,
      "outputs": [
        {
          "output_type": "execute_result",
          "data": {
            "text/plain": [
              "array([ 80, 100, 120])"
            ]
          },
          "metadata": {},
          "execution_count": 39
        }
      ]
    },
    {
      "cell_type": "code",
      "source": [
        "n14=np.array([40,50,60])\n",
        "n14=-n14/2\n",
        "n14"
      ],
      "metadata": {
        "colab": {
          "base_uri": "https://localhost:8080/",
          "height": 0
        },
        "id": "wMA3j2FmGpRg",
        "outputId": "554700b0-0445-4898-fc91-4baa9c7d0625"
      },
      "execution_count": 40,
      "outputs": [
        {
          "output_type": "execute_result",
          "data": {
            "text/plain": [
              "array([-20., -25., -30.])"
            ]
          },
          "metadata": {},
          "execution_count": 40
        }
      ]
    },
    {
      "cell_type": "markdown",
      "source": [
        "Mean Meadian sd"
      ],
      "metadata": {
        "id": "ew6sbsJGG0gr"
      }
    },
    {
      "cell_type": "markdown",
      "source": [
        ""
      ],
      "metadata": {
        "id": "5UV7Nh87G0S2"
      }
    },
    {
      "cell_type": "code",
      "source": [
        "n14=np.array([40,50,60])\n",
        "np.mean(n14)"
      ],
      "metadata": {
        "colab": {
          "base_uri": "https://localhost:8080/",
          "height": 0
        },
        "id": "0_URz7D9Gxft",
        "outputId": "1e6aa2ed-e565-49f1-8931-0985f12d4d7d"
      },
      "execution_count": 41,
      "outputs": [
        {
          "output_type": "execute_result",
          "data": {
            "text/plain": [
              "50.0"
            ]
          },
          "metadata": {},
          "execution_count": 41
        }
      ]
    },
    {
      "cell_type": "code",
      "source": [
        "n14=np.array([40,50,60])\n",
        "np.std(n14)"
      ],
      "metadata": {
        "colab": {
          "base_uri": "https://localhost:8080/",
          "height": 0
        },
        "id": "JWC1RGItHDAF",
        "outputId": "ae3bfcae-9b62-41bd-fd0e-0635aefd5227"
      },
      "execution_count": 42,
      "outputs": [
        {
          "output_type": "execute_result",
          "data": {
            "text/plain": [
              "8.16496580927726"
            ]
          },
          "metadata": {},
          "execution_count": 42
        }
      ]
    },
    {
      "cell_type": "markdown",
      "source": [
        "Numpy Matrix"
      ],
      "metadata": {
        "id": "QvlDuhD8HMIU"
      }
    },
    {
      "cell_type": "code",
      "source": [
        "n16=np.array([[1,2,3],[4,5,6],[7,8,9]])\n",
        "n16[0]"
      ],
      "metadata": {
        "colab": {
          "base_uri": "https://localhost:8080/",
          "height": 0
        },
        "id": "sCNKnEbqHLGN",
        "outputId": "64c8fc9f-67c2-4499-9b9a-7b9cbd9a04ee"
      },
      "execution_count": 43,
      "outputs": [
        {
          "output_type": "execute_result",
          "data": {
            "text/plain": [
              "array([1, 2, 3])"
            ]
          },
          "metadata": {},
          "execution_count": 43
        }
      ]
    },
    {
      "cell_type": "code",
      "source": [
        "n16=np.array([[1,2,3],[4,5,6],[7,8,9]])\n",
        "\n",
        "n16[:,2]"
      ],
      "metadata": {
        "colab": {
          "base_uri": "https://localhost:8080/",
          "height": 0
        },
        "id": "F3AOeVLGHrNJ",
        "outputId": "07d167bf-ac2c-4594-d6aa-8a72bb62b89b"
      },
      "execution_count": 44,
      "outputs": [
        {
          "output_type": "execute_result",
          "data": {
            "text/plain": [
              "array([3, 6, 9])"
            ]
          },
          "metadata": {},
          "execution_count": 44
        }
      ]
    }
  ]
}